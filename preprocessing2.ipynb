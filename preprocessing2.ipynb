{
 "cells": [
  {
   "cell_type": "code",
   "execution_count": 1,
   "id": "1740f507",
   "metadata": {},
   "outputs": [],
   "source": [
    "# 훈련 , 검증, 테스트 세트\n",
    "import numpy as np\n",
    "from glob import glob\n",
    "from PIL import Image\n",
    "from sklearn.model_selection import train_test_split"
   ]
  },
  {
   "cell_type": "code",
   "execution_count": 2,
   "id": "534efcaf",
   "metadata": {},
   "outputs": [],
   "source": [
    "# 이미지 데이터 하나로 불러오기\n",
    "files = [(path, path.replace(\"data_original\\\\\", \"\").replace(\".npy\", \"\")) for path in glob(\"data_original/*\")]\n",
    "\n",
    "# 분류 정보 처리\n",
    "categories = [category for _, category in files]\n",
    "np.save('category.npy', np.array(categories))"
   ]
  },
  {
   "cell_type": "code",
   "execution_count": 3,
   "id": "5cd3a292",
   "metadata": {},
   "outputs": [
    {
     "name": "stdout",
     "output_type": "stream",
     "text": [
      "data_original\\aircraft carrier.npy aircraft carrier 0\n",
      "data_original\\airplane.npy airplane 1\n",
      "data_original\\alarm clock.npy alarm clock 2\n",
      "data_original\\ambulance.npy ambulance 3\n",
      "data_original\\angel.npy angel 4\n",
      "data_original\\animal migration.npy animal migration 5\n",
      "data_original\\ant.npy ant 6\n",
      "data_original\\anvil.npy anvil 7\n",
      "data_original\\apple.npy apple 8\n",
      "data_original\\arm.npy arm 9\n",
      "data_original\\asparagus.npy asparagus 10\n",
      "data_original\\axe.npy axe 11\n",
      "data_original\\backpack.npy backpack 12\n",
      "data_original\\banana.npy banana 13\n",
      "data_original\\barn.npy barn 14\n",
      "data_original\\baseball bat.npy baseball bat 15\n",
      "data_original\\baseball.npy baseball 16\n",
      "data_original\\basket.npy basket 17\n",
      "data_original\\basketball.npy basketball 18\n",
      "data_original\\bat.npy bat 19\n",
      "data_original\\bathtub.npy bathtub 20\n",
      "data_original\\beach.npy beach 21\n",
      "data_original\\bear.npy bear 22\n",
      "data_original\\beard.npy beard 23\n",
      "data_original\\bed.npy bed 24\n",
      "data_original\\bee.npy bee 25\n",
      "data_original\\belt.npy belt 26\n",
      "data_original\\bench.npy bench 27\n",
      "data_original\\bicycle.npy bicycle 28\n",
      "data_original\\binoculars.npy binoculars 29\n",
      "data_original\\bird.npy bird 30\n",
      "data_original\\birthday cake.npy birthday cake 31\n",
      "data_original\\blackberry.npy blackberry 32\n",
      "data_original\\blueberry.npy blueberry 33\n",
      "data_original\\book.npy book 34\n",
      "data_original\\boomerang.npy boomerang 35\n",
      "data_original\\bottlecap.npy bottlecap 36\n",
      "data_original\\bowtie.npy bowtie 37\n",
      "data_original\\bracelet.npy bracelet 38\n",
      "data_original\\brain.npy brain 39\n",
      "data_original\\bread.npy bread 40\n",
      "data_original\\bridge.npy bridge 41\n",
      "data_original\\broccoli.npy broccoli 42\n",
      "data_original\\broom.npy broom 43\n",
      "data_original\\bucket.npy bucket 44\n",
      "data_original\\bulldozer.npy bulldozer 45\n",
      "data_original\\The Eiffel Tower.npy The Eiffel Tower 46\n",
      "data_original\\The Great Wall of China.npy The Great Wall of China 47\n",
      "data_original\\The Mona Lisa.npy The Mona Lisa 48\n",
      "(3185000, 28, 28) (3185000,)\n"
     ]
    }
   ],
   "source": [
    "ea = 65000\n",
    "\n",
    "items = np.zeros((len(files) * ea, 28, 28), dtype=np.uint8)\n",
    "targets = np.zeros(len(files) * ea, dtype=np.uint8)\n",
    "for i, item in enumerate(files):\n",
    "    path, category = item\n",
    "\n",
    "    target = categories.index(category)\n",
    "    print(path, category, target)\n",
    "\n",
    "    data = np.load(path)\n",
    "    for j in range(ea):\n",
    "        rows = i * ea + j\n",
    "        items[rows] = data[j].reshape(-1, 28, 28)\n",
    "        targets[rows] = target\n",
    "\n",
    "print(items.shape, targets.shape)"
   ]
  },
  {
   "cell_type": "code",
   "execution_count": 4,
   "id": "80f9a44d",
   "metadata": {},
   "outputs": [
    {
     "data": {
      "image/png": "[encoded data removed]",
      "text/plain": [
       "<Figure size 640x480 with 1 Axes>"
      ]
     },
     "metadata": {},
     "output_type": "display_data"
    }
   ],
   "source": [
    "import matplotlib.pyplot as plt\n",
    "\n",
    "plt.imshow(items[0], cmap='gray_r')\n",
    "plt.show()"
   ]
  },
  {
   "cell_type": "code",
   "execution_count": 5,
   "id": "0c9136c0",
   "metadata": {},
   "outputs": [],
   "source": [
    "indexes = np.arange(items.shape[0])\n",
    "np.random.shuffle(indexes)\n",
    "\n",
    "items = items[indexes, :, :]\n",
    "targets = targets[indexes]"
   ]
  },
  {
   "cell_type": "code",
   "execution_count": 6,
   "id": "42c08ede",
   "metadata": {},
   "outputs": [
    {
     "data": {
      "image/png": "[encoded data removed]",
      "text/plain": [
       "<Figure size 640x480 with 1 Axes>"
      ]
     },
     "metadata": {},
     "output_type": "display_data"
    }
   ],
   "source": [
    "plt.imshow(items[0], cmap='gray_r')\n",
    "plt.show()"
   ]
  },
  {
   "cell_type": "code",
   "execution_count": 7,
   "id": "dd4c94eb",
   "metadata": {},
   "outputs": [],
   "source": [
    "rows = int(np.ceil(items.shape[0] / ea))\n",
    "\n",
    "for i in range(49):\n",
    "    start = i * ea\n",
    "    data = items[start:start + ea, :, :]\n",
    "    \n",
    "    target = targets[start:start + ea]\n",
    "    np.save(f\"data/data{i}.npy\", data)\n",
    "    np.save(f\"data/target{i}.npy\", target)"
   ]
  }
 ],
 "metadata": {
  "kernelspec": {
   "display_name": ".venv",
   "language": "python",
   "name": "python3"
  },
  "language_info": {
   "codemirror_mode": {
    "name": "ipython",
    "version": 3
   },
   "file_extension": ".py",
   "mimetype": "text/x-python",
   "name": "python",
   "nbconvert_exporter": "python",
   "pygments_lexer": "ipython3",
   "version": "3.12.10"
  }
 },
 "nbformat": 4,
 "nbformat_minor": 5
}
