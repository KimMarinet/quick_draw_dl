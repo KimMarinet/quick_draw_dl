{
 "cells": [
  {
   "cell_type": "code",
   "execution_count": 1,
   "id": "1740f507",
   "metadata": {},
   "outputs": [],
   "source": [
    "# 훈련 , 검증, 테스트 세트\n",
    "import numpy as np\n",
    "from glob import glob\n",
    "from sklearn.model_selection import train_test_split"
   ]
  },
  {
   "cell_type": "code",
   "execution_count": 4,
   "id": "534efcaf",
   "metadata": {},
   "outputs": [
    {
     "name": "stdout",
     "output_type": "stream",
     "text": [
      "(490000, 224, 224) (490000,)\n"
     ]
    }
   ],
   "source": [
    "files = [(path, path.replace(\"data\\\\\",\"\").replace(\".npy\",\"\")) for path in glob(\"data/*\")]\n",
    "total = len(files) * 10000\n",
    "\n",
    "train_data = np.zeros((total, 224, 224), dtype=np.uint8)\n",
    "target_data = np.zeros((total,), dtype=np.uint8)\n",
    "\n",
    "print(train_data.shape, target_data.shape)"
   ]
  },
  {
   "cell_type": "code",
   "execution_count": null,
   "id": "5cd3a292",
   "metadata": {},
   "outputs": [],
   "source": []
  }
 ],
 "metadata": {
  "kernelspec": {
   "display_name": ".venv",
   "language": "python",
   "name": "python3"
  },
  "language_info": {
   "codemirror_mode": {
    "name": "ipython",
    "version": 3
   },
   "file_extension": ".py",
   "mimetype": "text/x-python",
   "name": "python",
   "nbconvert_exporter": "python",
   "pygments_lexer": "ipython3",
   "version": "3.12.10"
  }
 },
 "nbformat": 4,
 "nbformat_minor": 5
}
